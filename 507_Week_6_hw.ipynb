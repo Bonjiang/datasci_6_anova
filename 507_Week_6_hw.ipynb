{
  "nbformat": 4,
  "nbformat_minor": 0,
  "metadata": {
    "colab": {
      "provenance": [],
      "authorship_tag": "ABX9TyPMupd9vBg+BX1icb21I0FQ",
      "include_colab_link": true
    },
    "kernelspec": {
      "name": "python3",
      "display_name": "Python 3"
    },
    "language_info": {
      "name": "python"
    }
  },
  "cells": [
    {
      "cell_type": "markdown",
      "metadata": {
        "id": "view-in-github",
        "colab_type": "text"
      },
      "source": [
        "<a href=\"https://colab.research.google.com/github/Bonjiang/datasci_6_anova/blob/main/507_Week_6_hw.ipynb\" target=\"_parent\"><img src=\"https://colab.research.google.com/assets/colab-badge.svg\" alt=\"Open In Colab\"/></a>"
      ]
    },
    {
      "cell_type": "code",
      "source": [
        "!pip install ucimlrepo"
      ],
      "metadata": {
        "colab": {
          "base_uri": "https://localhost:8080/"
        },
        "id": "5Mc_5X9Podth",
        "outputId": "9823a3ed-cd1e-403e-d153-e22c6e8d1f35"
      },
      "execution_count": 2,
      "outputs": [
        {
          "output_type": "stream",
          "name": "stdout",
          "text": [
            "Requirement already satisfied: ucimlrepo in /usr/local/lib/python3.10/dist-packages (0.0.3)\n"
          ]
        }
      ]
    },
    {
      "cell_type": "code",
      "execution_count": 3,
      "metadata": {
        "id": "Vq19JlnAmoR3"
      },
      "outputs": [],
      "source": [
        "from ucimlrepo import fetch_ucirepo\n",
        "import pandas as pd\n",
        "import scipy.stats as stats\n",
        "import statsmodels.api as sm\n",
        "from statsmodels.formula.api import ols\n",
        "import matplotlib.pyplot as plt"
      ]
    },
    {
      "cell_type": "markdown",
      "source": [
        "## Variables of interest"
      ],
      "metadata": {
        "id": "2R-ETJYqpgg8"
      }
    },
    {
      "cell_type": "markdown",
      "source": [
        "#### dv = time_in_hospital, iv1 = race, iv2 = A1Cresult"
      ],
      "metadata": {
        "id": "0yM_B9J9ppAx"
      }
    },
    {
      "cell_type": "code",
      "source": [
        "# fetch dataset\n",
        "diabetes_130_us_hospitals_for_years_1999_2008 = fetch_ucirepo(id=296)\n",
        "\n",
        "# data (as pandas dataframes)\n",
        "X = diabetes_130_us_hospitals_for_years_1999_2008.data.features\n",
        "y = diabetes_130_us_hospitals_for_years_1999_2008.data.targets"
      ],
      "metadata": {
        "id": "1jEM0E2opZW-"
      },
      "execution_count": null,
      "outputs": []
    },
    {
      "cell_type": "code",
      "source": [
        "df = pd.DataFrame(X)\n",
        "df"
      ],
      "metadata": {
        "colab": {
          "base_uri": "https://localhost:8080/",
          "height": 626
        },
        "id": "ONa3IRrdqXpX",
        "outputId": "58d871a7-f551-4b86-f421-869bf3f9c575"
      },
      "execution_count": 61,
      "outputs": [
        {
          "output_type": "execute_result",
          "data": {
            "text/plain": [
              "                   race  gender      age weight  admission_type_id  \\\n",
              "0             Caucasian  Female   [0-10)    NaN                  6   \n",
              "1             Caucasian  Female  [10-20)    NaN                  1   \n",
              "2       AfricanAmerican  Female  [20-30)    NaN                  1   \n",
              "3             Caucasian    Male  [30-40)    NaN                  1   \n",
              "4             Caucasian    Male  [40-50)    NaN                  1   \n",
              "...                 ...     ...      ...    ...                ...   \n",
              "101761  AfricanAmerican    Male  [70-80)    NaN                  1   \n",
              "101762  AfricanAmerican  Female  [80-90)    NaN                  1   \n",
              "101763        Caucasian    Male  [70-80)    NaN                  1   \n",
              "101764        Caucasian  Female  [80-90)    NaN                  2   \n",
              "101765        Caucasian    Male  [70-80)    NaN                  1   \n",
              "\n",
              "        discharge_disposition_id  admission_source_id  time_in_hospital  \\\n",
              "0                             25                    1                 1   \n",
              "1                              1                    7                 3   \n",
              "2                              1                    7                 2   \n",
              "3                              1                    7                 2   \n",
              "4                              1                    7                 1   \n",
              "...                          ...                  ...               ...   \n",
              "101761                         3                    7                 3   \n",
              "101762                         4                    5                 5   \n",
              "101763                         1                    7                 1   \n",
              "101764                         3                    7                10   \n",
              "101765                         1                    7                 6   \n",
              "\n",
              "       payer_code         medical_specialty  ...  examide  citoglipton  \\\n",
              "0             NaN  Pediatrics-Endocrinology  ...       No           No   \n",
              "1             NaN                       NaN  ...       No           No   \n",
              "2             NaN                       NaN  ...       No           No   \n",
              "3             NaN                       NaN  ...       No           No   \n",
              "4             NaN                       NaN  ...       No           No   \n",
              "...           ...                       ...  ...      ...          ...   \n",
              "101761         MC                       NaN  ...       No           No   \n",
              "101762         MC                       NaN  ...       No           No   \n",
              "101763         MC                       NaN  ...       No           No   \n",
              "101764         MC           Surgery-General  ...       No           No   \n",
              "101765        NaN                       NaN  ...       No           No   \n",
              "\n",
              "        insulin  glyburide-metformin  glipizide-metformin  \\\n",
              "0            No                   No                   No   \n",
              "1            Up                   No                   No   \n",
              "2            No                   No                   No   \n",
              "3            Up                   No                   No   \n",
              "4        Steady                   No                   No   \n",
              "...         ...                  ...                  ...   \n",
              "101761     Down                   No                   No   \n",
              "101762   Steady                   No                   No   \n",
              "101763     Down                   No                   No   \n",
              "101764       Up                   No                   No   \n",
              "101765       No                   No                   No   \n",
              "\n",
              "        glimepiride-pioglitazone metformin-rosiglitazone  \\\n",
              "0                             No                      No   \n",
              "1                             No                      No   \n",
              "2                             No                      No   \n",
              "3                             No                      No   \n",
              "4                             No                      No   \n",
              "...                          ...                     ...   \n",
              "101761                        No                      No   \n",
              "101762                        No                      No   \n",
              "101763                        No                      No   \n",
              "101764                        No                      No   \n",
              "101765                        No                      No   \n",
              "\n",
              "       metformin-pioglitazone change  diabetesMed  \n",
              "0                          No     No           No  \n",
              "1                          No     Ch          Yes  \n",
              "2                          No     No          Yes  \n",
              "3                          No     Ch          Yes  \n",
              "4                          No     Ch          Yes  \n",
              "...                       ...    ...          ...  \n",
              "101761                     No     Ch          Yes  \n",
              "101762                     No     No          Yes  \n",
              "101763                     No     Ch          Yes  \n",
              "101764                     No     Ch          Yes  \n",
              "101765                     No     No           No  \n",
              "\n",
              "[101766 rows x 47 columns]"
            ],
            "text/html": [
              "\n",
              "  <div id=\"df-3b87c4b5-f774-47b5-ac1e-23aacab13600\" class=\"colab-df-container\">\n",
              "    <div>\n",
              "<style scoped>\n",
              "    .dataframe tbody tr th:only-of-type {\n",
              "        vertical-align: middle;\n",
              "    }\n",
              "\n",
              "    .dataframe tbody tr th {\n",
              "        vertical-align: top;\n",
              "    }\n",
              "\n",
              "    .dataframe thead th {\n",
              "        text-align: right;\n",
              "    }\n",
              "</style>\n",
              "<table border=\"1\" class=\"dataframe\">\n",
              "  <thead>\n",
              "    <tr style=\"text-align: right;\">\n",
              "      <th></th>\n",
              "      <th>race</th>\n",
              "      <th>gender</th>\n",
              "      <th>age</th>\n",
              "      <th>weight</th>\n",
              "      <th>admission_type_id</th>\n",
              "      <th>discharge_disposition_id</th>\n",
              "      <th>admission_source_id</th>\n",
              "      <th>time_in_hospital</th>\n",
              "      <th>payer_code</th>\n",
              "      <th>medical_specialty</th>\n",
              "      <th>...</th>\n",
              "      <th>examide</th>\n",
              "      <th>citoglipton</th>\n",
              "      <th>insulin</th>\n",
              "      <th>glyburide-metformin</th>\n",
              "      <th>glipizide-metformin</th>\n",
              "      <th>glimepiride-pioglitazone</th>\n",
              "      <th>metformin-rosiglitazone</th>\n",
              "      <th>metformin-pioglitazone</th>\n",
              "      <th>change</th>\n",
              "      <th>diabetesMed</th>\n",
              "    </tr>\n",
              "  </thead>\n",
              "  <tbody>\n",
              "    <tr>\n",
              "      <th>0</th>\n",
              "      <td>Caucasian</td>\n",
              "      <td>Female</td>\n",
              "      <td>[0-10)</td>\n",
              "      <td>NaN</td>\n",
              "      <td>6</td>\n",
              "      <td>25</td>\n",
              "      <td>1</td>\n",
              "      <td>1</td>\n",
              "      <td>NaN</td>\n",
              "      <td>Pediatrics-Endocrinology</td>\n",
              "      <td>...</td>\n",
              "      <td>No</td>\n",
              "      <td>No</td>\n",
              "      <td>No</td>\n",
              "      <td>No</td>\n",
              "      <td>No</td>\n",
              "      <td>No</td>\n",
              "      <td>No</td>\n",
              "      <td>No</td>\n",
              "      <td>No</td>\n",
              "      <td>No</td>\n",
              "    </tr>\n",
              "    <tr>\n",
              "      <th>1</th>\n",
              "      <td>Caucasian</td>\n",
              "      <td>Female</td>\n",
              "      <td>[10-20)</td>\n",
              "      <td>NaN</td>\n",
              "      <td>1</td>\n",
              "      <td>1</td>\n",
              "      <td>7</td>\n",
              "      <td>3</td>\n",
              "      <td>NaN</td>\n",
              "      <td>NaN</td>\n",
              "      <td>...</td>\n",
              "      <td>No</td>\n",
              "      <td>No</td>\n",
              "      <td>Up</td>\n",
              "      <td>No</td>\n",
              "      <td>No</td>\n",
              "      <td>No</td>\n",
              "      <td>No</td>\n",
              "      <td>No</td>\n",
              "      <td>Ch</td>\n",
              "      <td>Yes</td>\n",
              "    </tr>\n",
              "    <tr>\n",
              "      <th>2</th>\n",
              "      <td>AfricanAmerican</td>\n",
              "      <td>Female</td>\n",
              "      <td>[20-30)</td>\n",
              "      <td>NaN</td>\n",
              "      <td>1</td>\n",
              "      <td>1</td>\n",
              "      <td>7</td>\n",
              "      <td>2</td>\n",
              "      <td>NaN</td>\n",
              "      <td>NaN</td>\n",
              "      <td>...</td>\n",
              "      <td>No</td>\n",
              "      <td>No</td>\n",
              "      <td>No</td>\n",
              "      <td>No</td>\n",
              "      <td>No</td>\n",
              "      <td>No</td>\n",
              "      <td>No</td>\n",
              "      <td>No</td>\n",
              "      <td>No</td>\n",
              "      <td>Yes</td>\n",
              "    </tr>\n",
              "    <tr>\n",
              "      <th>3</th>\n",
              "      <td>Caucasian</td>\n",
              "      <td>Male</td>\n",
              "      <td>[30-40)</td>\n",
              "      <td>NaN</td>\n",
              "      <td>1</td>\n",
              "      <td>1</td>\n",
              "      <td>7</td>\n",
              "      <td>2</td>\n",
              "      <td>NaN</td>\n",
              "      <td>NaN</td>\n",
              "      <td>...</td>\n",
              "      <td>No</td>\n",
              "      <td>No</td>\n",
              "      <td>Up</td>\n",
              "      <td>No</td>\n",
              "      <td>No</td>\n",
              "      <td>No</td>\n",
              "      <td>No</td>\n",
              "      <td>No</td>\n",
              "      <td>Ch</td>\n",
              "      <td>Yes</td>\n",
              "    </tr>\n",
              "    <tr>\n",
              "      <th>4</th>\n",
              "      <td>Caucasian</td>\n",
              "      <td>Male</td>\n",
              "      <td>[40-50)</td>\n",
              "      <td>NaN</td>\n",
              "      <td>1</td>\n",
              "      <td>1</td>\n",
              "      <td>7</td>\n",
              "      <td>1</td>\n",
              "      <td>NaN</td>\n",
              "      <td>NaN</td>\n",
              "      <td>...</td>\n",
              "      <td>No</td>\n",
              "      <td>No</td>\n",
              "      <td>Steady</td>\n",
              "      <td>No</td>\n",
              "      <td>No</td>\n",
              "      <td>No</td>\n",
              "      <td>No</td>\n",
              "      <td>No</td>\n",
              "      <td>Ch</td>\n",
              "      <td>Yes</td>\n",
              "    </tr>\n",
              "    <tr>\n",
              "      <th>...</th>\n",
              "      <td>...</td>\n",
              "      <td>...</td>\n",
              "      <td>...</td>\n",
              "      <td>...</td>\n",
              "      <td>...</td>\n",
              "      <td>...</td>\n",
              "      <td>...</td>\n",
              "      <td>...</td>\n",
              "      <td>...</td>\n",
              "      <td>...</td>\n",
              "      <td>...</td>\n",
              "      <td>...</td>\n",
              "      <td>...</td>\n",
              "      <td>...</td>\n",
              "      <td>...</td>\n",
              "      <td>...</td>\n",
              "      <td>...</td>\n",
              "      <td>...</td>\n",
              "      <td>...</td>\n",
              "      <td>...</td>\n",
              "      <td>...</td>\n",
              "    </tr>\n",
              "    <tr>\n",
              "      <th>101761</th>\n",
              "      <td>AfricanAmerican</td>\n",
              "      <td>Male</td>\n",
              "      <td>[70-80)</td>\n",
              "      <td>NaN</td>\n",
              "      <td>1</td>\n",
              "      <td>3</td>\n",
              "      <td>7</td>\n",
              "      <td>3</td>\n",
              "      <td>MC</td>\n",
              "      <td>NaN</td>\n",
              "      <td>...</td>\n",
              "      <td>No</td>\n",
              "      <td>No</td>\n",
              "      <td>Down</td>\n",
              "      <td>No</td>\n",
              "      <td>No</td>\n",
              "      <td>No</td>\n",
              "      <td>No</td>\n",
              "      <td>No</td>\n",
              "      <td>Ch</td>\n",
              "      <td>Yes</td>\n",
              "    </tr>\n",
              "    <tr>\n",
              "      <th>101762</th>\n",
              "      <td>AfricanAmerican</td>\n",
              "      <td>Female</td>\n",
              "      <td>[80-90)</td>\n",
              "      <td>NaN</td>\n",
              "      <td>1</td>\n",
              "      <td>4</td>\n",
              "      <td>5</td>\n",
              "      <td>5</td>\n",
              "      <td>MC</td>\n",
              "      <td>NaN</td>\n",
              "      <td>...</td>\n",
              "      <td>No</td>\n",
              "      <td>No</td>\n",
              "      <td>Steady</td>\n",
              "      <td>No</td>\n",
              "      <td>No</td>\n",
              "      <td>No</td>\n",
              "      <td>No</td>\n",
              "      <td>No</td>\n",
              "      <td>No</td>\n",
              "      <td>Yes</td>\n",
              "    </tr>\n",
              "    <tr>\n",
              "      <th>101763</th>\n",
              "      <td>Caucasian</td>\n",
              "      <td>Male</td>\n",
              "      <td>[70-80)</td>\n",
              "      <td>NaN</td>\n",
              "      <td>1</td>\n",
              "      <td>1</td>\n",
              "      <td>7</td>\n",
              "      <td>1</td>\n",
              "      <td>MC</td>\n",
              "      <td>NaN</td>\n",
              "      <td>...</td>\n",
              "      <td>No</td>\n",
              "      <td>No</td>\n",
              "      <td>Down</td>\n",
              "      <td>No</td>\n",
              "      <td>No</td>\n",
              "      <td>No</td>\n",
              "      <td>No</td>\n",
              "      <td>No</td>\n",
              "      <td>Ch</td>\n",
              "      <td>Yes</td>\n",
              "    </tr>\n",
              "    <tr>\n",
              "      <th>101764</th>\n",
              "      <td>Caucasian</td>\n",
              "      <td>Female</td>\n",
              "      <td>[80-90)</td>\n",
              "      <td>NaN</td>\n",
              "      <td>2</td>\n",
              "      <td>3</td>\n",
              "      <td>7</td>\n",
              "      <td>10</td>\n",
              "      <td>MC</td>\n",
              "      <td>Surgery-General</td>\n",
              "      <td>...</td>\n",
              "      <td>No</td>\n",
              "      <td>No</td>\n",
              "      <td>Up</td>\n",
              "      <td>No</td>\n",
              "      <td>No</td>\n",
              "      <td>No</td>\n",
              "      <td>No</td>\n",
              "      <td>No</td>\n",
              "      <td>Ch</td>\n",
              "      <td>Yes</td>\n",
              "    </tr>\n",
              "    <tr>\n",
              "      <th>101765</th>\n",
              "      <td>Caucasian</td>\n",
              "      <td>Male</td>\n",
              "      <td>[70-80)</td>\n",
              "      <td>NaN</td>\n",
              "      <td>1</td>\n",
              "      <td>1</td>\n",
              "      <td>7</td>\n",
              "      <td>6</td>\n",
              "      <td>NaN</td>\n",
              "      <td>NaN</td>\n",
              "      <td>...</td>\n",
              "      <td>No</td>\n",
              "      <td>No</td>\n",
              "      <td>No</td>\n",
              "      <td>No</td>\n",
              "      <td>No</td>\n",
              "      <td>No</td>\n",
              "      <td>No</td>\n",
              "      <td>No</td>\n",
              "      <td>No</td>\n",
              "      <td>No</td>\n",
              "    </tr>\n",
              "  </tbody>\n",
              "</table>\n",
              "<p>101766 rows × 47 columns</p>\n",
              "</div>\n",
              "    <div class=\"colab-df-buttons\">\n",
              "\n",
              "  <div class=\"colab-df-container\">\n",
              "    <button class=\"colab-df-convert\" onclick=\"convertToInteractive('df-3b87c4b5-f774-47b5-ac1e-23aacab13600')\"\n",
              "            title=\"Convert this dataframe to an interactive table.\"\n",
              "            style=\"display:none;\">\n",
              "\n",
              "  <svg xmlns=\"http://www.w3.org/2000/svg\" height=\"24px\" viewBox=\"0 -960 960 960\">\n",
              "    <path d=\"M120-120v-720h720v720H120Zm60-500h600v-160H180v160Zm220 220h160v-160H400v160Zm0 220h160v-160H400v160ZM180-400h160v-160H180v160Zm440 0h160v-160H620v160ZM180-180h160v-160H180v160Zm440 0h160v-160H620v160Z\"/>\n",
              "  </svg>\n",
              "    </button>\n",
              "\n",
              "  <style>\n",
              "    .colab-df-container {\n",
              "      display:flex;\n",
              "      gap: 12px;\n",
              "    }\n",
              "\n",
              "    .colab-df-convert {\n",
              "      background-color: #E8F0FE;\n",
              "      border: none;\n",
              "      border-radius: 50%;\n",
              "      cursor: pointer;\n",
              "      display: none;\n",
              "      fill: #1967D2;\n",
              "      height: 32px;\n",
              "      padding: 0 0 0 0;\n",
              "      width: 32px;\n",
              "    }\n",
              "\n",
              "    .colab-df-convert:hover {\n",
              "      background-color: #E2EBFA;\n",
              "      box-shadow: 0px 1px 2px rgba(60, 64, 67, 0.3), 0px 1px 3px 1px rgba(60, 64, 67, 0.15);\n",
              "      fill: #174EA6;\n",
              "    }\n",
              "\n",
              "    .colab-df-buttons div {\n",
              "      margin-bottom: 4px;\n",
              "    }\n",
              "\n",
              "    [theme=dark] .colab-df-convert {\n",
              "      background-color: #3B4455;\n",
              "      fill: #D2E3FC;\n",
              "    }\n",
              "\n",
              "    [theme=dark] .colab-df-convert:hover {\n",
              "      background-color: #434B5C;\n",
              "      box-shadow: 0px 1px 3px 1px rgba(0, 0, 0, 0.15);\n",
              "      filter: drop-shadow(0px 1px 2px rgba(0, 0, 0, 0.3));\n",
              "      fill: #FFFFFF;\n",
              "    }\n",
              "  </style>\n",
              "\n",
              "    <script>\n",
              "      const buttonEl =\n",
              "        document.querySelector('#df-3b87c4b5-f774-47b5-ac1e-23aacab13600 button.colab-df-convert');\n",
              "      buttonEl.style.display =\n",
              "        google.colab.kernel.accessAllowed ? 'block' : 'none';\n",
              "\n",
              "      async function convertToInteractive(key) {\n",
              "        const element = document.querySelector('#df-3b87c4b5-f774-47b5-ac1e-23aacab13600');\n",
              "        const dataTable =\n",
              "          await google.colab.kernel.invokeFunction('convertToInteractive',\n",
              "                                                    [key], {});\n",
              "        if (!dataTable) return;\n",
              "\n",
              "        const docLinkHtml = 'Like what you see? Visit the ' +\n",
              "          '<a target=\"_blank\" href=https://colab.research.google.com/notebooks/data_table.ipynb>data table notebook</a>'\n",
              "          + ' to learn more about interactive tables.';\n",
              "        element.innerHTML = '';\n",
              "        dataTable['output_type'] = 'display_data';\n",
              "        await google.colab.output.renderOutput(dataTable, element);\n",
              "        const docLink = document.createElement('div');\n",
              "        docLink.innerHTML = docLinkHtml;\n",
              "        element.appendChild(docLink);\n",
              "      }\n",
              "    </script>\n",
              "  </div>\n",
              "\n",
              "\n",
              "<div id=\"df-c286f0b3-c197-4a1b-bbcb-192abd9bfcea\">\n",
              "  <button class=\"colab-df-quickchart\" onclick=\"quickchart('df-c286f0b3-c197-4a1b-bbcb-192abd9bfcea')\"\n",
              "            title=\"Suggest charts.\"\n",
              "            style=\"display:none;\">\n",
              "\n",
              "<svg xmlns=\"http://www.w3.org/2000/svg\" height=\"24px\"viewBox=\"0 0 24 24\"\n",
              "     width=\"24px\">\n",
              "    <g>\n",
              "        <path d=\"M19 3H5c-1.1 0-2 .9-2 2v14c0 1.1.9 2 2 2h14c1.1 0 2-.9 2-2V5c0-1.1-.9-2-2-2zM9 17H7v-7h2v7zm4 0h-2V7h2v10zm4 0h-2v-4h2v4z\"/>\n",
              "    </g>\n",
              "</svg>\n",
              "  </button>\n",
              "\n",
              "<style>\n",
              "  .colab-df-quickchart {\n",
              "      --bg-color: #E8F0FE;\n",
              "      --fill-color: #1967D2;\n",
              "      --hover-bg-color: #E2EBFA;\n",
              "      --hover-fill-color: #174EA6;\n",
              "      --disabled-fill-color: #AAA;\n",
              "      --disabled-bg-color: #DDD;\n",
              "  }\n",
              "\n",
              "  [theme=dark] .colab-df-quickchart {\n",
              "      --bg-color: #3B4455;\n",
              "      --fill-color: #D2E3FC;\n",
              "      --hover-bg-color: #434B5C;\n",
              "      --hover-fill-color: #FFFFFF;\n",
              "      --disabled-bg-color: #3B4455;\n",
              "      --disabled-fill-color: #666;\n",
              "  }\n",
              "\n",
              "  .colab-df-quickchart {\n",
              "    background-color: var(--bg-color);\n",
              "    border: none;\n",
              "    border-radius: 50%;\n",
              "    cursor: pointer;\n",
              "    display: none;\n",
              "    fill: var(--fill-color);\n",
              "    height: 32px;\n",
              "    padding: 0;\n",
              "    width: 32px;\n",
              "  }\n",
              "\n",
              "  .colab-df-quickchart:hover {\n",
              "    background-color: var(--hover-bg-color);\n",
              "    box-shadow: 0 1px 2px rgba(60, 64, 67, 0.3), 0 1px 3px 1px rgba(60, 64, 67, 0.15);\n",
              "    fill: var(--button-hover-fill-color);\n",
              "  }\n",
              "\n",
              "  .colab-df-quickchart-complete:disabled,\n",
              "  .colab-df-quickchart-complete:disabled:hover {\n",
              "    background-color: var(--disabled-bg-color);\n",
              "    fill: var(--disabled-fill-color);\n",
              "    box-shadow: none;\n",
              "  }\n",
              "\n",
              "  .colab-df-spinner {\n",
              "    border: 2px solid var(--fill-color);\n",
              "    border-color: transparent;\n",
              "    border-bottom-color: var(--fill-color);\n",
              "    animation:\n",
              "      spin 1s steps(1) infinite;\n",
              "  }\n",
              "\n",
              "  @keyframes spin {\n",
              "    0% {\n",
              "      border-color: transparent;\n",
              "      border-bottom-color: var(--fill-color);\n",
              "      border-left-color: var(--fill-color);\n",
              "    }\n",
              "    20% {\n",
              "      border-color: transparent;\n",
              "      border-left-color: var(--fill-color);\n",
              "      border-top-color: var(--fill-color);\n",
              "    }\n",
              "    30% {\n",
              "      border-color: transparent;\n",
              "      border-left-color: var(--fill-color);\n",
              "      border-top-color: var(--fill-color);\n",
              "      border-right-color: var(--fill-color);\n",
              "    }\n",
              "    40% {\n",
              "      border-color: transparent;\n",
              "      border-right-color: var(--fill-color);\n",
              "      border-top-color: var(--fill-color);\n",
              "    }\n",
              "    60% {\n",
              "      border-color: transparent;\n",
              "      border-right-color: var(--fill-color);\n",
              "    }\n",
              "    80% {\n",
              "      border-color: transparent;\n",
              "      border-right-color: var(--fill-color);\n",
              "      border-bottom-color: var(--fill-color);\n",
              "    }\n",
              "    90% {\n",
              "      border-color: transparent;\n",
              "      border-bottom-color: var(--fill-color);\n",
              "    }\n",
              "  }\n",
              "</style>\n",
              "\n",
              "  <script>\n",
              "    async function quickchart(key) {\n",
              "      const quickchartButtonEl =\n",
              "        document.querySelector('#' + key + ' button');\n",
              "      quickchartButtonEl.disabled = true;  // To prevent multiple clicks.\n",
              "      quickchartButtonEl.classList.add('colab-df-spinner');\n",
              "      try {\n",
              "        const charts = await google.colab.kernel.invokeFunction(\n",
              "            'suggestCharts', [key], {});\n",
              "      } catch (error) {\n",
              "        console.error('Error during call to suggestCharts:', error);\n",
              "      }\n",
              "      quickchartButtonEl.classList.remove('colab-df-spinner');\n",
              "      quickchartButtonEl.classList.add('colab-df-quickchart-complete');\n",
              "    }\n",
              "    (() => {\n",
              "      let quickchartButtonEl =\n",
              "        document.querySelector('#df-c286f0b3-c197-4a1b-bbcb-192abd9bfcea button');\n",
              "      quickchartButtonEl.style.display =\n",
              "        google.colab.kernel.accessAllowed ? 'block' : 'none';\n",
              "    })();\n",
              "  </script>\n",
              "</div>\n",
              "    </div>\n",
              "  </div>\n"
            ]
          },
          "metadata": {},
          "execution_count": 61
        }
      ]
    },
    {
      "cell_type": "code",
      "source": [
        "variables_of_interest = df[['time_in_hospital', 'race', 'A1Cresult']]"
      ],
      "metadata": {
        "id": "UYzPgvUCw_Ka"
      },
      "execution_count": 18,
      "outputs": []
    },
    {
      "cell_type": "code",
      "source": [
        "variables_of_interest.to_csv('diabetesdata.csv', index=False)"
      ],
      "metadata": {
        "id": "zZ9DkbVfxPYm"
      },
      "execution_count": 19,
      "outputs": []
    },
    {
      "cell_type": "code",
      "source": [
        "print(df.dtypes)"
      ],
      "metadata": {
        "id": "uHJqHQSwxj7f"
      },
      "execution_count": null,
      "outputs": []
    },
    {
      "cell_type": "code",
      "source": [
        "df['race'] = df['race'].astype(str)\n",
        "df['A1Cresult'] = df['A1Cresult'].astype(str)"
      ],
      "metadata": {
        "id": "Pw1itnMswEnv"
      },
      "execution_count": 40,
      "outputs": []
    },
    {
      "cell_type": "markdown",
      "source": [
        "#### I created a new subset of the data that only included my variables of interest which were 'time_in_hospital', 'race', and 'A1Cresult'. This subset focused on the variables of interest and these variables were chosen because the were related to the research question of 'How do the race of the patient (race) and their A1C test results (A1Cresult) jointly influence the duration of their hospital stay (time_in_hospital)? I also ensured that the independent variables were strings as they were categorical values"
      ],
      "metadata": {
        "id": "RcYWOxXVCk_N"
      }
    },
    {
      "cell_type": "markdown",
      "source": [
        "## Assumption Checks- Normality: Shapiro-Wilk Test"
      ],
      "metadata": {
        "id": "R-Rnpe-BDmyN"
      }
    },
    {
      "cell_type": "code",
      "source": [
        "print('Main DV: ', stats.shapiro(df['time_in_hospital']))"
      ],
      "metadata": {
        "colab": {
          "base_uri": "https://localhost:8080/"
        },
        "id": "TNI_k5YfstFb",
        "outputId": "c6d192c8-1669-4f40-e87c-929490b37112"
      },
      "execution_count": 25,
      "outputs": [
        {
          "output_type": "stream",
          "name": "stdout",
          "text": [
            "Main DV:  ShapiroResult(statistic=0.8869192600250244, pvalue=0.0)\n"
          ]
        },
        {
          "output_type": "stream",
          "name": "stderr",
          "text": [
            "/usr/local/lib/python3.10/dist-packages/scipy/stats/_morestats.py:1882: UserWarning: p-value may not be accurate for N > 5000.\n",
            "  warnings.warn(\"p-value may not be accurate for N > 5000.\")\n"
          ]
        }
      ]
    },
    {
      "cell_type": "markdown",
      "source": [
        "#### The Shapiro-Wilk test is used to determine whether a dataset follows a normal distribution. Given these results, the statistic value suggests that my data is not far from a normal distribution, but may have some deviations as it's close to 1. However, the p-value associated is shown as 0.0 which indicates that the data significantly far from the normality. Note: The p-value is a stronger indication than the statistic value"
      ],
      "metadata": {
        "id": "zWFlnhFXDttd"
      }
    },
    {
      "cell_type": "code",
      "source": [
        "plt.hist(df['time_in_hospital'], bins=20, edgecolor='k', alpha=0.7)\n",
        "plt.title('Histogram of Hospital Stay Duration')\n",
        "plt.xlabel('Stay Duration')\n",
        "plt.ylabel('Number')\n",
        "plt.show()"
      ],
      "metadata": {
        "colab": {
          "base_uri": "https://localhost:8080/",
          "height": 472
        },
        "id": "VNwZXkg9tSG7",
        "outputId": "9f17322d-c7ea-4396-cbe6-a114eb4db3b8"
      },
      "execution_count": 26,
      "outputs": [
        {
          "output_type": "display_data",
          "data": {
            "text/plain": [
              "<Figure size 640x480 with 1 Axes>"
            ],
            "image/png": "[encoded data removed]"
          },
          "metadata": {}
        }
      ]
    },
    {
      "cell_type": "markdown",
      "source": [
        "#### This is a right-skewed distribution and means there are more responses to the right-hand side of the mean. This shows that the data is far from normal distribution as a normal distribution would show symmetrical distribution around the mean."
      ],
      "metadata": {
        "id": "s7kwCi3Iu1_V"
      }
    },
    {
      "cell_type": "code",
      "source": [
        "groups = df.groupby(['race', 'A1Cresult'])\n",
        "\n",
        "for (race_status, A1Cresult_status), group_df in groups:\n",
        "    _, p_value = stats.shapiro(group_df['time_in_hospital'])\n",
        "\n",
        "    print(f\"Group ({race_status}, {A1Cresult_status}):\")\n",
        "    print(f\"P-value from Shapiro-Wilk Test: {p_value}\\n\")\n",
        ""
      ],
      "metadata": {
        "colab": {
          "base_uri": "https://localhost:8080/"
        },
        "id": "Fvrg9CDQu2a8",
        "outputId": "b0f4fa53-9139-4f64-e38e-fb3b856c044d"
      },
      "execution_count": 28,
      "outputs": [
        {
          "output_type": "stream",
          "name": "stdout",
          "text": [
            "Group (AfricanAmerican, >7):\n",
            "P-value from Shapiro-Wilk Test: 1.8906119489850806e-16\n",
            "\n",
            "Group (AfricanAmerican, >8):\n",
            "P-value from Shapiro-Wilk Test: 6.7359146155303186e-34\n",
            "\n",
            "Group (AfricanAmerican, None):\n",
            "P-value from Shapiro-Wilk Test: 0.0\n",
            "\n",
            "Group (AfricanAmerican, Norm):\n",
            "P-value from Shapiro-Wilk Test: 2.9696700824519264e-25\n",
            "\n",
            "Group (Asian, >7):\n",
            "P-value from Shapiro-Wilk Test: 0.0023467366117984056\n",
            "\n",
            "Group (Asian, >8):\n",
            "P-value from Shapiro-Wilk Test: 2.233798113593366e-05\n",
            "\n",
            "Group (Asian, None):\n",
            "P-value from Shapiro-Wilk Test: 2.6558121925662052e-21\n",
            "\n",
            "Group (Asian, Norm):\n",
            "P-value from Shapiro-Wilk Test: 0.0007482930086553097\n",
            "\n",
            "Group (Caucasian, >7):\n",
            "P-value from Shapiro-Wilk Test: 1.7925673399754353e-38\n",
            "\n",
            "Group (Caucasian, >8):\n",
            "P-value from Shapiro-Wilk Test: 0.0\n",
            "\n",
            "Group (Caucasian, None):\n",
            "P-value from Shapiro-Wilk Test: 0.0\n",
            "\n",
            "Group (Caucasian, Norm):\n",
            "P-value from Shapiro-Wilk Test: 1.930148504761003e-41\n",
            "\n",
            "Group (Hispanic, >7):\n",
            "P-value from Shapiro-Wilk Test: 2.1721559733123286e-06\n",
            "\n",
            "Group (Hispanic, >8):\n",
            "P-value from Shapiro-Wilk Test: 1.0855431137324345e-12\n",
            "\n",
            "Group (Hispanic, None):\n",
            "P-value from Shapiro-Wilk Test: 1.793864359413239e-35\n",
            "\n",
            "Group (Hispanic, Norm):\n",
            "P-value from Shapiro-Wilk Test: 4.4957931777389604e-07\n",
            "\n",
            "Group (Other, >7):\n",
            "P-value from Shapiro-Wilk Test: 1.5921328667900525e-05\n",
            "\n",
            "Group (Other, >8):\n",
            "P-value from Shapiro-Wilk Test: 1.617614514559662e-10\n",
            "\n",
            "Group (Other, None):\n",
            "P-value from Shapiro-Wilk Test: 2.446808042197051e-30\n",
            "\n",
            "Group (Other, Norm):\n",
            "P-value from Shapiro-Wilk Test: 0.00019315516692586243\n",
            "\n"
          ]
        },
        {
          "output_type": "stream",
          "name": "stderr",
          "text": [
            "/usr/local/lib/python3.10/dist-packages/scipy/stats/_morestats.py:1882: UserWarning: p-value may not be accurate for N > 5000.\n",
            "  warnings.warn(\"p-value may not be accurate for N > 5000.\")\n"
          ]
        }
      ]
    },
    {
      "cell_type": "markdown",
      "source": [
        "#### These are the p-values from Shapiro-Wilk tests for different groups in my dataset. The p-values shown are very small and are close to zero which indicates that most of the groups in my data do not follow normal distribution."
      ],
      "metadata": {
        "id": "2xmcmjpCGUq3"
      }
    },
    {
      "cell_type": "markdown",
      "source": [
        "## Assumption Checks- Homoscedasticity (Equal Variances): Levene's Test"
      ],
      "metadata": {
        "id": "Z0lSB1tZGqp9"
      }
    },
    {
      "cell_type": "code",
      "source": [
        "stats.levene(\n",
        "    df['time_in_hospital'][df['race'] == 'AfricanAmerican'][df['A1Cresult'] == '>7'],\n",
        "    df['time_in_hospital'][df['race'] == 'AfricanAmerican'][df['A1Cresult'] == '>8'],\n",
        "    df['time_in_hospital'][df['race'] == 'AfricanAmerican'][df['A1Cresult'] == 'None'],\n",
        "    df['time_in_hospital'][df['race'] == 'AfricanAmerican'][df['A1Cresult'] == 'Norm'],\n",
        "    df['time_in_hospital'][df['race'] == 'Asian'][df['A1Cresult'] == '>7'],\n",
        "    df['time_in_hospital'][df['race'] == 'Asian'][df['A1Cresult'] == '>8'],\n",
        "    df['time_in_hospital'][df['race'] == 'Asian'][df['A1Cresult'] == 'None'],\n",
        "    df['time_in_hospital'][df['race'] == 'Asian'][df['A1Cresult'] == 'Norm'],\n",
        "    df['time_in_hospital'][df['race'] == 'Caucasian'][df['A1Cresult'] == '>7'],\n",
        "    df['time_in_hospital'][df['race'] == 'Caucasian'][df['A1Cresult'] == '>8'],\n",
        "    df['time_in_hospital'][df['race'] == 'Caucasian'][df['A1Cresult'] == 'None'],\n",
        "    df['time_in_hospital'][df['race'] == 'Caucasian'][df['A1Cresult'] == 'None'],\n",
        "    df['time_in_hospital'][df['race'] == 'Hispanic'][df['A1Cresult'] == '>7'],\n",
        "    df['time_in_hospital'][df['race'] == 'Hispanic'][df['A1Cresult'] == '>8'],\n",
        "    df['time_in_hospital'][df['race'] == 'Hispanic'][df['A1Cresult'] == 'None'],\n",
        "    df['time_in_hospital'][df['race'] == 'Hispanic'][df['A1Cresult'] == 'Norm'],\n",
        "    df['time_in_hospital'][df['race'] == 'Other'][df['A1Cresult'] == '>7'],\n",
        "    df['time_in_hospital'][df['race'] == 'Other'][df['A1Cresult'] == '>8'],\n",
        "    df['time_in_hospital'][df['race'] == 'Other'][df['A1Cresult'] == 'None'],\n",
        "    df['time_in_hospital'][df['race'] == 'Other'][df['A1Cresult'] == 'Norm'],\n",
        ")\n",
        "\n"
      ],
      "metadata": {
        "colab": {
          "base_uri": "https://localhost:8080/"
        },
        "id": "TETkD0Hj4KaZ",
        "outputId": "0dd2935f-0e28-4dba-e4df-f3c7688c30f6"
      },
      "execution_count": 41,
      "outputs": [
        {
          "output_type": "execute_result",
          "data": {
            "text/plain": [
              "LeveneResult(statistic=6.716864467722241, pvalue=4.185867568134629e-18)"
            ]
          },
          "metadata": {},
          "execution_count": 41
        }
      ]
    },
    {
      "cell_type": "markdown",
      "source": [
        "#### These results of a low p-value indicates that there is strong evidence against the null hypothesis. This value suggests that the variances in the compared groups are not equal and that there are significant differences in the data being dispersed among the groups."
      ],
      "metadata": {
        "id": "zRvum3EuHAxZ"
      }
    },
    {
      "cell_type": "markdown",
      "source": [
        "## ANOVA"
      ],
      "metadata": {
        "id": "wBkQUVIHJYf7"
      }
    },
    {
      "cell_type": "code",
      "source": [
        "model = ols('time_in_hospital ~ C(race) * C(A1Cresult)', data=df).fit()"
      ],
      "metadata": {
        "id": "g45Vk3Zt4VMS"
      },
      "execution_count": 31,
      "outputs": []
    },
    {
      "cell_type": "code",
      "source": [
        "anova_table = sm.stats.anova_lm(model, typ=2)\n",
        "print(anova_table)"
      ],
      "metadata": {
        "colab": {
          "base_uri": "https://localhost:8080/"
        },
        "id": "DJx_kt2m4Xkp",
        "outputId": "80a56f43-9d56-46b9-af6f-20575fe73c1a"
      },
      "execution_count": 32,
      "outputs": [
        {
          "output_type": "stream",
          "name": "stdout",
          "text": [
            "                             sum_sq       df           F        PR(>F)\n",
            "C(race)                  641.735130      4.0   18.075566  7.501203e-15\n",
            "C(A1Cresult)            3895.231358      3.0  146.287793  1.363867e-94\n",
            "C(race):C(A1Cresult)     276.823623     12.0    2.599070  1.845652e-03\n",
            "Residual              882895.150091  99473.0         NaN           NaN\n"
          ]
        }
      ]
    },
    {
      "cell_type": "markdown",
      "source": [
        "#### These results indicate that both the variables of 'race' and 'A1Cresult' have significant effects on the outcome/dependent variable of 'time_in_hospital' and that there is a significant interaction effect between the independent variables. The p-values are very close to zero, indicatintg strong statistical significance. From this, a Tukey post-hoc test is necessary."
      ],
      "metadata": {
        "id": "60sMIVSr-mAY"
      }
    },
    {
      "cell_type": "markdown",
      "source": [
        "## Post-hoc Test"
      ],
      "metadata": {
        "id": "yyqCZhDJIp_b"
      }
    },
    {
      "cell_type": "code",
      "source": [
        "from statsmodels.stats.multicomp import MultiComparison"
      ],
      "metadata": {
        "id": "GxoAdkJM79gR"
      },
      "execution_count": 42,
      "outputs": []
    },
    {
      "cell_type": "code",
      "source": [
        "group_order = ['AfricanAmerican', 'Asian', 'Caucasian', 'Hispanic', 'Other']\n",
        "\n",
        "mc = MultiComparison(df['time_in_hospital'], df['race'], group_order)"
      ],
      "metadata": {
        "id": "zija0cRR_vlQ"
      },
      "execution_count": null,
      "outputs": []
    },
    {
      "cell_type": "code",
      "source": [
        "result = mc.tukeyhsd()\n",
        "print(result)"
      ],
      "metadata": {
        "colab": {
          "base_uri": "https://localhost:8080/"
        },
        "id": "GXWPhtng_5MX",
        "outputId": "d98e7600-3162-4cda-f250-2dfbe7a3bae8"
      },
      "execution_count": 57,
      "outputs": [
        {
          "output_type": "stream",
          "name": "stdout",
          "text": [
            "      Multiple Comparison of Means - Tukey HSD, FWER=0.05       \n",
            "================================================================\n",
            "     group1       group2  meandiff p-adj   lower   upper  reject\n",
            "----------------------------------------------------------------\n",
            "AfricanAmerican     Asian  -0.5125 0.0002 -0.8396 -0.1855   True\n",
            "AfricanAmerican Caucasian  -0.1221    0.0 -0.1879 -0.0564   True\n",
            "AfricanAmerican  Hispanic   -0.448    0.0 -0.6378 -0.2582   True\n",
            "AfricanAmerican     Other  -0.2343 0.0278 -0.4523 -0.0163   True\n",
            "          Asian Caucasian   0.3904 0.0087  0.0673  0.7135   True\n",
            "          Asian  Hispanic   0.0646 0.9894 -0.3043  0.4335  False\n",
            "          Asian     Other   0.2783 0.2778 -0.1059  0.6624  False\n",
            "      Caucasian  Hispanic  -0.3258    0.0 -0.5087  -0.143   True\n",
            "      Caucasian     Other  -0.1121 0.5995 -0.3241  0.0998  False\n",
            "       Hispanic     Other   0.2137 0.2175 -0.0631  0.4905  False\n",
            "----------------------------------------------------------------\n"
          ]
        }
      ]
    },
    {
      "cell_type": "markdown",
      "source": [
        "#### For each pair of groups, the 'reject' column suggests if there is a statistically significant difference in means between those two groups. If 'True' it indiciates that the difference in means is statistically significant and can conclude that the means are different from one another. However, if 'False', then there is no statistically significant difference in means between the groups. Here, groups with significant differences include: AfricanAmerican & Asian, AfricanAmerican & Caucasian, AfricanAmerican & Hispanic, AfricanAmerican & Other, Asian & Caucasian, Caucasian & Hispanic."
      ],
      "metadata": {
        "id": "xEKc-11QJL2A"
      }
    },
    {
      "cell_type": "code",
      "source": [
        "group_order = ['>7','>8', 'None', 'Norm']\n",
        "\n",
        "mc = MultiComparison(df['time_in_hospital'], df['A1Cresult'], group_order)"
      ],
      "metadata": {
        "id": "36elKULRBueb"
      },
      "execution_count": 63,
      "outputs": []
    },
    {
      "cell_type": "code",
      "source": [
        "result = mc.tukeyhsd()\n",
        "print(result)"
      ],
      "metadata": {
        "colab": {
          "base_uri": "https://localhost:8080/"
        },
        "id": "PVzH2__TBw9L",
        "outputId": "33037339-3741-42e0-a2cc-bfbcc0e8dd0d"
      },
      "execution_count": 59,
      "outputs": [
        {
          "output_type": "stream",
          "name": "stdout",
          "text": [
            "Multiple Comparison of Means - Tukey HSD, FWER=0.05 \n",
            "====================================================\n",
            "group1 group2 meandiff p-adj   lower   upper  reject\n",
            "----------------------------------------------------\n",
            "    >7     >8    -0.14 0.0773   -0.29  0.0099  False\n",
            "    >7   None  -0.5808    0.0 -0.7075 -0.4541   True\n",
            "    >7   Norm   0.0348 0.9486 -0.1299  0.1994  False\n",
            "    >8   None  -0.4408    0.0 -0.5292 -0.3524   True\n",
            "    >8   Norm   0.1748 0.0059  0.0374  0.3121   True\n",
            "  None   Norm   0.6156    0.0  0.5041  0.7271   True\n",
            "----------------------------------------------------\n"
          ]
        }
      ]
    },
    {
      "cell_type": "markdown",
      "source": [
        "#### Here, groups with significant differences include >7 & None, >8 & None, >8 & Norm, None & Norm as the reject column says 'True' and the means of those two groups are different from each other."
      ],
      "metadata": {
        "id": "GIZFrOAWKzBS"
      }
    }
  ]
}